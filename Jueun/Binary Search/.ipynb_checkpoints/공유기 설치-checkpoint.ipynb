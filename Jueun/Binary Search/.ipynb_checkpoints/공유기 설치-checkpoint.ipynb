{
 "cells": [
  {
   "cell_type": "code",
   "execution_count": null,
   "id": "c59303a0",
   "metadata": {},
   "outputs": [],
   "source": [
    "5 3\n",
    "1\n",
    "2\n",
    "8\n",
    "4\n",
    "9\n",
    "\n",
    "3"
   ]
  },
  {
   "cell_type": "code",
   "execution_count": null,
   "id": "170205ae",
   "metadata": {},
   "outputs": [],
   "source": [
    "9 3\n",
    "\n",
    "1 2 3 4 5 6 7 8 100\n",
    "\n",
    "ans: 7 ( 1 8 100 )"
   ]
  },
  {
   "cell_type": "code",
   "execution_count": null,
   "id": "d5519853",
   "metadata": {},
   "outputs": [],
   "source": [
    "4 3 \n",
    "\n",
    "1 3 7 8 \n",
    "\n",
    "2"
   ]
  },
  {
   "cell_type": "code",
   "execution_count": null,
   "id": "f30104e3",
   "metadata": {},
   "outputs": [],
   "source": [
    "4 3\n",
    "\n",
    "1\n",
    "\n",
    "3\n",
    "\n",
    "5\n",
    "\n",
    "7"
   ]
  },
  {
   "cell_type": "code",
   "execution_count": null,
   "id": "cd69e931",
   "metadata": {},
   "outputs": [],
   "source": [
    "10 5\n",
    "74\n",
    "28\n",
    "46\n",
    "59\n",
    "85\n",
    "14\n",
    "57\n",
    "83\n",
    "32\n",
    "41\n",
    "\n",
    "정답 13\n",
    "출력 -1\n",
    "\n",
    "#이거 안됨"
   ]
  },
  {
   "cell_type": "code",
   "execution_count": null,
   "id": "570b6e6c",
   "metadata": {},
   "outputs": [],
   "source": [
    "4 3\n",
    "\n",
    "11\n",
    "\n",
    "13\n",
    "\n",
    "16\n",
    "\n",
    "18\n",
    "\n",
    "ans = 2(3개를 어떻게 선택해도 가장 인접한 두 공유기 사이의 거리는 같음)\n",
    "\n",
    "output : 10"
   ]
  },
  {
   "cell_type": "code",
   "execution_count": null,
   "id": "493f6e7c",
   "metadata": {},
   "outputs": [],
   "source": [
    "input\n",
    "3 3\n",
    "1\n",
    "4\n",
    "6\n",
    "\n",
    "output\n",
    "1\n",
    "\n",
    "answer\n",
    "2"
   ]
  },
  {
   "cell_type": "code",
   "execution_count": 25,
   "id": "72df944d",
   "metadata": {},
   "outputs": [
    {
     "name": "stdout",
     "output_type": "stream",
     "text": [
      "9 3\n",
      "1\n",
      "2\n",
      "3\n",
      "4\n",
      "5\n",
      "6\n",
      "7\n",
      "8\n",
      "100\n",
      "6\n"
     ]
    }
   ],
   "source": [
    "n,m = map(int,input().split())\n",
    "homes = [int(input()) for _ in range(n)]\n",
    "homes.sort()\n",
    "\n",
    "start = 1 \n",
    "end = homes[-1] - homes[0]\n",
    "result = 0\n",
    "\n",
    "while(start <= end):\n",
    "    mid = (start + end) // 2  # 가장 클수 있는 거리의 중간값 4\n",
    "    cur = homes[0] # 첫번째 값부터 시작\n",
    "    cnt = 1\n",
    "    \n",
    "    for i in range(1,len(homes)): # 두번째 공유기부터 마지막까지\n",
    "        if homes[i] - cur >= mid:  \n",
    "            cur = homes[i] \n",
    "            cnt += 1\n",
    "    if cnt >= m:  \n",
    "        start = mid + 1\n",
    "        result = mid\n",
    "        \n",
    "    else:  \n",
    "        end = mid - 1  \n",
    "        \n",
    "print(result)"
   ]
  }
 ],
 "metadata": {
  "kernelspec": {
   "display_name": "Python 3 (ipykernel)",
   "language": "python",
   "name": "python3"
  },
  "language_info": {
   "codemirror_mode": {
    "name": "ipython",
    "version": 3
   },
   "file_extension": ".py",
   "mimetype": "text/x-python",
   "name": "python",
   "nbconvert_exporter": "python",
   "pygments_lexer": "ipython3",
   "version": "3.9.13"
  }
 },
 "nbformat": 4,
 "nbformat_minor": 5
}
