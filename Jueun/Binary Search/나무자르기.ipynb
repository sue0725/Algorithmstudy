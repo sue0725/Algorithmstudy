{
 "cells": [
  {
   "cell_type": "code",
   "execution_count": null,
   "id": "3509d7f4",
   "metadata": {},
   "outputs": [],
   "source": [
    "4 7\n",
    "20 15 10 17"
   ]
  },
  {
   "cell_type": "code",
   "execution_count": null,
   "id": "21025190",
   "metadata": {},
   "outputs": [],
   "source": [
    "5 20\n",
    "4 42 40 26 46"
   ]
  },
  {
   "cell_type": "code",
   "execution_count": 13,
   "id": "4595081b",
   "metadata": {
    "scrolled": true
   },
   "outputs": [
    {
     "name": "stdout",
     "output_type": "stream",
     "text": [
      "5 20\n",
      "4 42 40 26 46\n",
      "36\n"
     ]
    }
   ],
   "source": [
    "n,m = map(int,input().split())\n",
    "trees = list(map(int,input().split()))\n",
    "\n",
    "st = 0\n",
    "ed = max(trees)\n",
    "\n",
    "\n",
    "while(st <= ed):\n",
    "    SumOfWood = 0\n",
    "    mid = (st + ed) // 2\n",
    "    \n",
    "    for t in trees :\n",
    "        if t > mid:\n",
    "            SumOfWood += t-mid\n",
    "        \n",
    "    if SumOfWood < m : #mid를 더 낮춰야.. // 나무가 더 필요함\n",
    "        ed = mid - 1\n",
    "        \n",
    "    else: \n",
    "        st = mid + 1\n",
    "print(mid-1)"
   ]
  },
  {
   "cell_type": "code",
   "execution_count": null,
   "id": "c555287b",
   "metadata": {},
   "outputs": [],
   "source": []
  }
 ],
 "metadata": {
  "kernelspec": {
   "display_name": "Python 3 (ipykernel)",
   "language": "python",
   "name": "python3"
  },
  "language_info": {
   "codemirror_mode": {
    "name": "ipython",
    "version": 3
   },
   "file_extension": ".py",
   "mimetype": "text/x-python",
   "name": "python",
   "nbconvert_exporter": "python",
   "pygments_lexer": "ipython3",
   "version": "3.9.13"
  }
 },
 "nbformat": 4,
 "nbformat_minor": 5
}
