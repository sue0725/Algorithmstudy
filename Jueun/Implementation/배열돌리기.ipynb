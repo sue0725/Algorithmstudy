{
 "cells": [
  {
   "cell_type": "code",
   "execution_count": null,
   "id": "7b99800f",
   "metadata": {},
   "outputs": [],
   "source": [
    "X의 주 대각선을 ((1,1), (2,2), …, (n, n)) 가운데 열 ((n+1)/2 번째 열)로 옮긴다.\n",
    "X의 가운데 열을 X의 부 대각선으로 ((n, 1), (n-1, 2), …, (1, n)) 옮긴다. \n",
    "X의 부 대각선을 X의 가운데 행 ((n+1)/2번째 행)으로 옮긴다.\n",
    "X의 가운데 행을 X의 주 대각선으로 옮긴다.\n",
    "위 네 가지 경우 모두 원소의 기존 순서는 유지 되어야 한다.\n",
    "X의 다른 원소의 위치는 변하지 않는다."
   ]
  },
  {
   "cell_type": "code",
   "execution_count": null,
   "id": "ac2ffd49",
   "metadata": {},
   "outputs": [],
   "source": [
    "4\n",
    "5 45\n",
    "1 2 3 4 5\n",
    "6 7 8 9 10\n",
    "11 12 13 14 15\n",
    "16 17 18 19 20\n",
    "21 22 23 24 25"
   ]
  },
  {
   "cell_type": "code",
   "execution_count": 5,
   "id": "4c1dfa47",
   "metadata": {},
   "outputs": [
    {
     "name": "stdout",
     "output_type": "stream",
     "text": [
      "4\n",
      "5 45\n",
      "1 2 3 4 5\n",
      "6 7 8 9 10\n",
      "11 12 13 14 15\n",
      "16 17 18 19 20\n",
      "21 22 23 24 25\n",
      "1 2 4 4 5 \n",
      "6 7 8 9 10 \n",
      "1 7 13 19 25 \n",
      "16 17 16 19 20 \n",
      "21 22 23 24 25 \n"
     ]
    }
   ],
   "source": [
    "import copy\n",
    "n = int(input())\n",
    "a,b = map(int,input().split())\n",
    "data = [[] for _ in range(a)]\n",
    "\n",
    "for i in range(a): #data 만들기\n",
    "    data[i] = list(map(int,input().split()))\n",
    "new_data = copy.deepcopy(data)\n",
    "\n",
    "#대각선은 좌표x,y가 같거나\n",
    "#x+y 가 n-1이거나\n",
    "#x가 n//2이거나\n",
    "#y가 n//2이거나\n",
    "#사각형이니까 늘 대각선은 4개~!\n",
    "for _ in range(n) : \n",
    "    a,b = map(int,input().split())\n",
    "    data = [[] for _ in range(a)]\n",
    "    for j in range(b//45) : \n",
    "        for i in range(5) :\n",
    "            for j in range(5) :\n",
    "                if i == j : #대각선은 좌표x,y가 같을 때\n",
    "                    new_data[n//2][j] = data[i][j]\n",
    "\n",
    "                elif i+j == n-1:#x+y 가 n-1이거나\n",
    "                    new_data[i][n//2] = data[i][j]\n",
    "\n",
    "                elif i == n//2 :#x가 n//2이거나\n",
    "                    if j < n//2 :  #상단\n",
    "                        new_data[i][j+(n//2-i)] = data[i][j]\n",
    "                    elif j > n//2 : #하단 \n",
    "                        new_data[i][j-(n//2-i)] = data[i][j]\n",
    "\n",
    "                elif j == n//2 :\n",
    "                    if i < n//2 : \n",
    "                        new_data[i+(n//2-j)][j] = data[i][j]\n",
    "                    elif i > n//2 :\n",
    "                        new_data[i-(n//2-j)][j] = data[i][j]\n",
    "\n",
    "\n",
    "        data = copy.deepcopy(new_data)\n",
    "    \n",
    "\n",
    "    for d in data :\n",
    "        for dd in d :\n",
    "            print(dd, end = ' ')\n",
    "        print()\n"
   ]
  },
  {
   "cell_type": "code",
   "execution_count": null,
   "id": "d09a0852",
   "metadata": {},
   "outputs": [],
   "source": [
    "1 2 4 4 5 \n",
    "6 7 8 9 10 \n",
    "1 7 13 19 25 \n",
    "16 17 16 19 20 \n",
    "21 22 23 24 25 "
   ]
  },
  {
   "cell_type": "code",
   "execution_count": null,
   "id": "1aee1008",
   "metadata": {},
   "outputs": [],
   "source": [
    "4\n",
    "5 45\n",
    "1 2 3 4 5\n",
    "6 7 8 9 10\n",
    "11 12 13 14 15\n",
    "16 17 18 19 20\n",
    "21 22 23 24 25"
   ]
  },
  {
   "cell_type": "code",
   "execution_count": 6,
   "id": "c7209066",
   "metadata": {},
   "outputs": [
    {
     "data": {
      "text/plain": [
       "[[1, 2, 4, 4, 5],\n",
       " [6, 7, 8, 9, 10],\n",
       " [1, 7, 13, 19, 25],\n",
       " [16, 17, 16, 19, 20],\n",
       " [21, 22, 23, 24, 25]]"
      ]
     },
     "execution_count": 6,
     "metadata": {},
     "output_type": "execute_result"
    }
   ],
   "source": [
    "new_data"
   ]
  },
  {
   "cell_type": "code",
   "execution_count": 7,
   "id": "9dbfc4aa",
   "metadata": {},
   "outputs": [
    {
     "data": {
      "text/plain": [
       "45"
      ]
     },
     "execution_count": 7,
     "metadata": {},
     "output_type": "execute_result"
    }
   ],
   "source": [
    "b"
   ]
  },
  {
   "cell_type": "code",
   "execution_count": 8,
   "id": "e19eb843",
   "metadata": {},
   "outputs": [
    {
     "name": "stdout",
     "output_type": "stream",
     "text": [
      "4\n",
      "5 45\n",
      "1 2 3 4 5\n",
      "6 7 8 9 10\n",
      "11 12 13 14 15\n",
      "16 17 18 19 20\n",
      "21 22 23 24 25\n"
     ]
    }
   ],
   "source": [
    "n = int(input())\n",
    "a,b = map(int,input().split())\n",
    "data = [[] for _ in range(a)]\n",
    "\n",
    "for i in range(a): #data 만들기\n",
    "    data[i] = list(map(int,input().split()))\n",
    "new_data = copy.deepcopy(data)"
   ]
  },
  {
   "cell_type": "code",
   "execution_count": 18,
   "id": "d5eb0b36",
   "metadata": {},
   "outputs": [],
   "source": [
    "data = [[1, 2, 3, 4, 5],\n",
    " [6, 7, 8, 9, 10],\n",
    " [11, 12, 13, 14, 15],\n",
    " [16, 17, 18, 19, 20],\n",
    " [21, 22, 23, 24, 25]]"
   ]
  },
  {
   "cell_type": "code",
   "execution_count": 22,
   "id": "e4120c06",
   "metadata": {},
   "outputs": [
    {
     "name": "stdout",
     "output_type": "stream",
     "text": [
      "1 2 4 4 5 \n",
      "6 7 8 9 10 \n",
      "1 7 13 19 25 \n",
      "16 17 18 19 20 \n",
      "21 22 23 24 25 \n"
     ]
    }
   ],
   "source": [
    "for j in range(b//45) : \n",
    "        for i in range(5) :\n",
    "            for j in range(5) :\n",
    "                if i == j : #대각선은 좌표x,y가 같을 때\n",
    "                    new_data[n//2][j] = data[i][j]\n",
    "\n",
    "                elif i+j == n-1:#x+y 가 n-1이거나\n",
    "                    new_data[i][n//2] = data[i][j]\n",
    "\n",
    "                elif i == n//2 :#x가 n//2이거나\n",
    "                    if j < n//2 :  #상단\n",
    "                        new_data[i][j+(n//2-i)] = data[i][j]\n",
    "                    elif j > n//2 : #하단 \n",
    "                        new_data[i][j-(n//2-i)] = data[i][j]\n",
    "\n",
    "                elif j == n//2 :\n",
    "                    if i < n//2 : \n",
    "                        new_data[i+(n//2-j)][j] = data[i][j]\n",
    "                    elif i > n//2 :\n",
    "                        new_data[i-(n//2-j)][j] = data[i][j]\n",
    "            data = copy.deepcopy(new_data)\n",
    "        \n",
    "        for d in data :\n",
    "            for dd in d :\n",
    "                print(dd, end = ' ')\n",
    "            print()"
   ]
  },
  {
   "cell_type": "code",
   "execution_count": 24,
   "id": "f69d2410",
   "metadata": {},
   "outputs": [
    {
     "ename": "IndentationError",
     "evalue": "unindent does not match any outer indentation level (<tokenize>, line 20)",
     "output_type": "error",
     "traceback": [
      "\u001b[0;36m  File \u001b[0;32m\"<tokenize>\"\u001b[0;36m, line \u001b[0;32m20\u001b[0m\n\u001b[0;31m    data = copy.deepcopy(new_data)\u001b[0m\n\u001b[0m    ^\u001b[0m\n\u001b[0;31mIndentationError\u001b[0m\u001b[0;31m:\u001b[0m unindent does not match any outer indentation level\n"
     ]
    }
   ],
   "source": [
    "        \n",
    "    \n",
    "for i in range(5) :\n",
    "    for j in range(5) :\n",
    "        if i == j : #대각선은 좌표x,y가 같을 때\n",
    "            new_data[n//2][j] = data[i][j]\n",
    "        elif i+j == n-1:#x+y 가 n-1이거나\n",
    "            new_data[i][n//2] = data[i][j]\n",
    "\n",
    "        elif i == n//2 :#x가 n//2이거나\n",
    "            if j < n//2 :  #상단\n",
    "                new_data[i][j+(n//2-i)] = data[i][j]\n",
    "            elif j > n//2 : #하단 \n",
    "                new_data[i][j-(n//2-i)] = data[i][j]\n",
    "\n",
    "        elif j == n//2 :\n",
    "            if i < n//2 : \n",
    "                        new_data[i+(n//2-j)][j] = data[i][j]\n",
    "                    elif i > n//2 :\n",
    "                        new_data[i-(n//2-j)][j] = data[i][j]\n",
    "            data = copy.deepcopy(new_data)\n",
    "    "
   ]
  },
  {
   "cell_type": "code",
   "execution_count": null,
   "id": "183954aa",
   "metadata": {},
   "outputs": [],
   "source": []
  }
 ],
 "metadata": {
  "kernelspec": {
   "display_name": "Python 3 (ipykernel)",
   "language": "python",
   "name": "python3"
  },
  "language_info": {
   "codemirror_mode": {
    "name": "ipython",
    "version": 3
   },
   "file_extension": ".py",
   "mimetype": "text/x-python",
   "name": "python",
   "nbconvert_exporter": "python",
   "pygments_lexer": "ipython3",
   "version": "3.9.13"
  }
 },
 "nbformat": 4,
 "nbformat_minor": 5
}
