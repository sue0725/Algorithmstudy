{
 "cells": [
  {
   "cell_type": "code",
   "execution_count": null,
   "id": "f426f6e8",
   "metadata": {},
   "outputs": [],
   "source": [
    "n = int(input())\n",
    "\n",
    "answer = 0\n",
    "for _ in range(n) :\n",
    "    \n",
    "    inp = input()\n",
    "    word = set(inp[0])\n",
    "    bef = inp[0]\n",
    "    no = False\n",
    "    for i in inp[1:] :\n",
    "        if i not in word :\n",
    "            word.add(i)\n",
    "            bef = i \n",
    "            \n",
    "        elif bef == i :\n",
    "            continue\n",
    "            \n",
    "        elif i in word and bef != i : #word에 있어. 근데 이전이랑 같은 애도 아니야\n",
    "            no = True\n",
    "            break\n",
    "    if not no :\n",
    "        answer += 1\n",
    "print(answer)"
   ]
  }
 ],
 "metadata": {
  "kernelspec": {
   "display_name": "Python 3 (ipykernel)",
   "language": "python",
   "name": "python3"
  },
  "language_info": {
   "codemirror_mode": {
    "name": "ipython",
    "version": 3
   },
   "file_extension": ".py",
   "mimetype": "text/x-python",
   "name": "python",
   "nbconvert_exporter": "python",
   "pygments_lexer": "ipython3",
   "version": "3.9.13"
  }
 },
 "nbformat": 4,
 "nbformat_minor": 5
}
