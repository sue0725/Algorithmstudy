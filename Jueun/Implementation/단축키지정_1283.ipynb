{
 "cells": [
  {
   "cell_type": "code",
   "execution_count": 54,
   "id": "ba4f81be",
   "metadata": {},
   "outputs": [
    {
     "name": "stdout",
     "output_type": "stream",
     "text": [
      "12\n",
      "Aab\n",
      "shortcut is \n",
      "{'A'}\n",
      "[A]ab\n",
      "Z bcd\n",
      "shortcut is \n",
      "{'A', 'Z'}\n",
      "[Z] bcd\n",
      "a hw rf\n",
      "shortcut is \n",
      "{'H', 'A', 'Z'}\n",
      "a [h]w rf\n",
      "h aH\n",
      "shortcut is \n",
      "{'H', 'A', 'Z'}\n",
      "h aH\n",
      "BB hRf\n",
      "shortcut is \n",
      "{'H', 'A', 'Z', 'B'}\n",
      "[B]B hRf\n",
      "haa aje\n",
      "shortcut is \n",
      "{'A', 'J', 'B', 'Z', 'H'}\n",
      "haa a[j]e\n",
      "AHHAB Bz\n",
      "shortcut is \n",
      "{'A', 'J', 'B', 'Z', 'H'}\n",
      "AHHAB Bz\n"
     ]
    },
    {
     "ename": "KeyboardInterrupt",
     "evalue": "Interrupted by user",
     "output_type": "error",
     "traceback": [
      "\u001b[0;31m---------------------------------------------------------------------------\u001b[0m",
      "\u001b[0;31mKeyboardInterrupt\u001b[0m                         Traceback (most recent call last)",
      "\u001b[0;32m/var/folders/gv/sxj3d3js34z4tl2vljgf7zhh0000gn/T/ipykernel_7086/747796688.py\u001b[0m in \u001b[0;36m<module>\u001b[0;34m\u001b[0m\n\u001b[1;32m      3\u001b[0m \u001b[0;34m\u001b[0m\u001b[0m\n\u001b[1;32m      4\u001b[0m \u001b[0;32mfor\u001b[0m \u001b[0m_\u001b[0m \u001b[0;32min\u001b[0m \u001b[0mrange\u001b[0m\u001b[0;34m(\u001b[0m\u001b[0mn\u001b[0m\u001b[0;34m)\u001b[0m\u001b[0;34m:\u001b[0m\u001b[0;34m\u001b[0m\u001b[0;34m\u001b[0m\u001b[0m\n\u001b[0;32m----> 5\u001b[0;31m     \u001b[0minp\u001b[0m \u001b[0;34m=\u001b[0m \u001b[0minput\u001b[0m\u001b[0;34m(\u001b[0m\u001b[0;34m)\u001b[0m\u001b[0;34m\u001b[0m\u001b[0;34m\u001b[0m\u001b[0m\n\u001b[0m\u001b[1;32m      6\u001b[0m     \u001b[0mok\u001b[0m \u001b[0;34m=\u001b[0m \u001b[0;32mFalse\u001b[0m\u001b[0;34m\u001b[0m\u001b[0;34m\u001b[0m\u001b[0m\n\u001b[1;32m      7\u001b[0m     \u001b[0;31m#1. 먼저 하나의 옵션에 대해 왼쪽에서부터 오른쪽 순서로 단어의 첫 글자가 이미 단축키로 지정되었는지 살펴본다.\u001b[0m\u001b[0;34m\u001b[0m\u001b[0;34m\u001b[0m\u001b[0m\n",
      "\u001b[0;32m~/opt/anaconda3/lib/python3.9/site-packages/ipykernel/kernelbase.py\u001b[0m in \u001b[0;36mraw_input\u001b[0;34m(self, prompt)\u001b[0m\n\u001b[1;32m   1175\u001b[0m                 \u001b[0;34m\"raw_input was called, but this frontend does not support input requests.\"\u001b[0m\u001b[0;34m\u001b[0m\u001b[0;34m\u001b[0m\u001b[0m\n\u001b[1;32m   1176\u001b[0m             )\n\u001b[0;32m-> 1177\u001b[0;31m         return self._input_request(\n\u001b[0m\u001b[1;32m   1178\u001b[0m             \u001b[0mstr\u001b[0m\u001b[0;34m(\u001b[0m\u001b[0mprompt\u001b[0m\u001b[0;34m)\u001b[0m\u001b[0;34m,\u001b[0m\u001b[0;34m\u001b[0m\u001b[0;34m\u001b[0m\u001b[0m\n\u001b[1;32m   1179\u001b[0m             \u001b[0mself\u001b[0m\u001b[0;34m.\u001b[0m\u001b[0m_parent_ident\u001b[0m\u001b[0;34m[\u001b[0m\u001b[0;34m\"shell\"\u001b[0m\u001b[0;34m]\u001b[0m\u001b[0;34m,\u001b[0m\u001b[0;34m\u001b[0m\u001b[0;34m\u001b[0m\u001b[0m\n",
      "\u001b[0;32m~/opt/anaconda3/lib/python3.9/site-packages/ipykernel/kernelbase.py\u001b[0m in \u001b[0;36m_input_request\u001b[0;34m(self, prompt, ident, parent, password)\u001b[0m\n\u001b[1;32m   1217\u001b[0m             \u001b[0;32mexcept\u001b[0m \u001b[0mKeyboardInterrupt\u001b[0m\u001b[0;34m:\u001b[0m\u001b[0;34m\u001b[0m\u001b[0;34m\u001b[0m\u001b[0m\n\u001b[1;32m   1218\u001b[0m                 \u001b[0;31m# re-raise KeyboardInterrupt, to truncate traceback\u001b[0m\u001b[0;34m\u001b[0m\u001b[0;34m\u001b[0m\u001b[0m\n\u001b[0;32m-> 1219\u001b[0;31m                 \u001b[0;32mraise\u001b[0m \u001b[0mKeyboardInterrupt\u001b[0m\u001b[0;34m(\u001b[0m\u001b[0;34m\"Interrupted by user\"\u001b[0m\u001b[0;34m)\u001b[0m \u001b[0;32mfrom\u001b[0m \u001b[0;32mNone\u001b[0m\u001b[0;34m\u001b[0m\u001b[0;34m\u001b[0m\u001b[0m\n\u001b[0m\u001b[1;32m   1220\u001b[0m             \u001b[0;32mexcept\u001b[0m \u001b[0mException\u001b[0m\u001b[0;34m:\u001b[0m\u001b[0;34m\u001b[0m\u001b[0;34m\u001b[0m\u001b[0m\n\u001b[1;32m   1221\u001b[0m                 \u001b[0mself\u001b[0m\u001b[0;34m.\u001b[0m\u001b[0mlog\u001b[0m\u001b[0;34m.\u001b[0m\u001b[0mwarning\u001b[0m\u001b[0;34m(\u001b[0m\u001b[0;34m\"Invalid Message:\"\u001b[0m\u001b[0;34m,\u001b[0m \u001b[0mexc_info\u001b[0m\u001b[0;34m=\u001b[0m\u001b[0;32mTrue\u001b[0m\u001b[0;34m)\u001b[0m\u001b[0;34m\u001b[0m\u001b[0;34m\u001b[0m\u001b[0m\n",
      "\u001b[0;31mKeyboardInterrupt\u001b[0m: Interrupted by user"
     ]
    }
   ],
   "source": [
    "n = int(input())\n",
    "shortcut = set()\n",
    "\n",
    "for _ in range(n):\n",
    "    inp = input()\n",
    "    ok = False\n",
    "    #1. 먼저 하나의 옵션에 대해 왼쪽에서부터 오른쪽 순서로 단어의 첫 글자가 이미 단축키로 지정되었는지 살펴본다. \n",
    "    inp_li = inp.split()\n",
    "    answer = ''\n",
    "    for li in inp_li : \n",
    "        #단축키 지정되기 전까지는 그냥 answer에 더해야\n",
    "        \n",
    "        if li[0].upper() in shortcut or ok: #이미 0 번째꺼가 지정되어 있는 경우이거나 이미 앞에서 지정된 경우\n",
    "            for l in li :\n",
    "                answer += l\n",
    "            \n",
    "        if li[0].upper() not in shortcut and ok == False: # 만약 단축키로 아직 지정이 안 되어있다면 그 알파벳을 단축키로 지정한다.\n",
    "            answer += '['\n",
    "            answer += li[0]\n",
    "            answer += ']'\n",
    "            shortcut.add(li[0].upper())\n",
    "            ok = True\n",
    "            for l in li[1:] :\n",
    "                answer += l\n",
    "        answer += ' '   \n",
    "            \n",
    "    if ok == False : #끝까지 단축키가 지정되지 않은 경우 , \n",
    "        answer = ''\n",
    "        for idx, item in enumerate(inp) :\n",
    "            if item.upper() not in shortcut and item != ' ': \n",
    "                answer +='['\n",
    "                answer += item\n",
    "                answer +=']'\n",
    "                answer += ''.join(inp[idx+1:])\n",
    "                shortcut.add(item.upper())\n",
    "                break\n",
    "            else : answer += item\n",
    "\n",
    "    print(answer.rstrip())\n",
    "                "
   ]
  },
  {
   "cell_type": "code",
   "execution_count": 48,
   "id": "b836fbf0",
   "metadata": {},
   "outputs": [
    {
     "ename": "SyntaxError",
     "evalue": "invalid syntax (3458723195.py, line 5)",
     "output_type": "error",
     "traceback": [
      "\u001b[0;36m  File \u001b[0;32m\"/var/folders/gv/sxj3d3js34z4tl2vljgf7zhh0000gn/T/ipykernel_7086/3458723195.py\"\u001b[0;36m, line \u001b[0;32m5\u001b[0m\n\u001b[0;31m    Save As\u001b[0m\n\u001b[0m         ^\u001b[0m\n\u001b[0;31mSyntaxError\u001b[0m\u001b[0;31m:\u001b[0m invalid syntax\n"
     ]
    }
   ],
   "source": [
    "5\n",
    "New\n",
    "Open\n",
    "Save\n",
    "Save As\n",
    "Save All\n",
    "\n",
    "[N]ew\n",
    "[O]pen\n",
    "[S]ave\n",
    "Save [A]s\n",
    "Sa[v]e All\n",
    "\n",
    "12\n",
    "Aab\n",
    "Z bcd\n",
    "a hw rf\n",
    "h aH\n",
    "BB hRf\n",
    "haa aje\n",
    "AHHAB Bz\n",
    "ah zb a a k\n",
    "ABB III\n",
    "ajjeEt hhq\n",
    "a j h h e o\n",
    "apP po"
   ]
  },
  {
   "cell_type": "code",
   "execution_count": null,
   "id": "8d0c385b",
   "metadata": {},
   "outputs": [],
   "source": []
  }
 ],
 "metadata": {
  "kernelspec": {
   "display_name": "Python 3 (ipykernel)",
   "language": "python",
   "name": "python3"
  },
  "language_info": {
   "codemirror_mode": {
    "name": "ipython",
    "version": 3
   },
   "file_extension": ".py",
   "mimetype": "text/x-python",
   "name": "python",
   "nbconvert_exporter": "python",
   "pygments_lexer": "ipython3",
   "version": "3.9.13"
  }
 },
 "nbformat": 4,
 "nbformat_minor": 5
}
