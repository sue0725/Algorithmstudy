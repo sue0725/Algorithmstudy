{
 "cells": [
  {
   "cell_type": "code",
   "execution_count": null,
   "id": "74b93876",
   "metadata": {},
   "outputs": [],
   "source": [
    "a->b\n",
    "\n",
    "2 162\n"
   ]
  },
  {
   "cell_type": "code",
   "execution_count": null,
   "id": "cc545afb",
   "metadata": {},
   "outputs": [],
   "source": [
    "5\n",
    "1\n",
    "5\n",
    "3\n",
    "1\n",
    "2"
   ]
  },
  {
   "cell_type": "code",
   "execution_count": 4,
   "id": "5975e472",
   "metadata": {},
   "outputs": [
    {
     "ename": "KeyboardInterrupt",
     "evalue": "Interrupted by user",
     "output_type": "error",
     "traceback": [
      "\u001b[0;31m---------------------------------------------------------------------------\u001b[0m",
      "\u001b[0;31mKeyboardInterrupt\u001b[0m                         Traceback (most recent call last)",
      "\u001b[0;32m/var/folders/gv/sxj3d3js34z4tl2vljgf7zhh0000gn/T/ipykernel_1361/2892340463.py\u001b[0m in \u001b[0;36m<module>\u001b[0;34m\u001b[0m\n\u001b[0;32m----> 1\u001b[0;31m \u001b[0mn\u001b[0m \u001b[0;34m=\u001b[0m \u001b[0mint\u001b[0m\u001b[0;34m(\u001b[0m\u001b[0minput\u001b[0m\u001b[0;34m(\u001b[0m\u001b[0;34m)\u001b[0m\u001b[0;34m)\u001b[0m\u001b[0;34m\u001b[0m\u001b[0;34m\u001b[0m\u001b[0m\n\u001b[0m\u001b[1;32m      2\u001b[0m \u001b[0;31m#불만이 최소가 되도록\u001b[0m\u001b[0;34m\u001b[0m\u001b[0;34m\u001b[0m\u001b[0m\n\u001b[1;32m      3\u001b[0m \u001b[0manti\u001b[0m \u001b[0;34m=\u001b[0m \u001b[0;34m[\u001b[0m\u001b[0;34m]\u001b[0m\u001b[0;34m\u001b[0m\u001b[0;34m\u001b[0m\u001b[0m\n\u001b[1;32m      4\u001b[0m \u001b[0;34m\u001b[0m\u001b[0m\n\u001b[1;32m      5\u001b[0m \u001b[0;32mfor\u001b[0m \u001b[0m_\u001b[0m \u001b[0;32min\u001b[0m \u001b[0mrange\u001b[0m\u001b[0;34m(\u001b[0m\u001b[0mn\u001b[0m\u001b[0;34m)\u001b[0m \u001b[0;34m:\u001b[0m\u001b[0;34m\u001b[0m\u001b[0;34m\u001b[0m\u001b[0m\n",
      "\u001b[0;32m~/opt/anaconda3/lib/python3.9/site-packages/ipykernel/kernelbase.py\u001b[0m in \u001b[0;36mraw_input\u001b[0;34m(self, prompt)\u001b[0m\n\u001b[1;32m   1175\u001b[0m                 \u001b[0;34m\"raw_input was called, but this frontend does not support input requests.\"\u001b[0m\u001b[0;34m\u001b[0m\u001b[0;34m\u001b[0m\u001b[0m\n\u001b[1;32m   1176\u001b[0m             )\n\u001b[0;32m-> 1177\u001b[0;31m         return self._input_request(\n\u001b[0m\u001b[1;32m   1178\u001b[0m             \u001b[0mstr\u001b[0m\u001b[0;34m(\u001b[0m\u001b[0mprompt\u001b[0m\u001b[0;34m)\u001b[0m\u001b[0;34m,\u001b[0m\u001b[0;34m\u001b[0m\u001b[0;34m\u001b[0m\u001b[0m\n\u001b[1;32m   1179\u001b[0m             \u001b[0mself\u001b[0m\u001b[0;34m.\u001b[0m\u001b[0m_parent_ident\u001b[0m\u001b[0;34m[\u001b[0m\u001b[0;34m\"shell\"\u001b[0m\u001b[0;34m]\u001b[0m\u001b[0;34m,\u001b[0m\u001b[0;34m\u001b[0m\u001b[0;34m\u001b[0m\u001b[0m\n",
      "\u001b[0;32m~/opt/anaconda3/lib/python3.9/site-packages/ipykernel/kernelbase.py\u001b[0m in \u001b[0;36m_input_request\u001b[0;34m(self, prompt, ident, parent, password)\u001b[0m\n\u001b[1;32m   1217\u001b[0m             \u001b[0;32mexcept\u001b[0m \u001b[0mKeyboardInterrupt\u001b[0m\u001b[0;34m:\u001b[0m\u001b[0;34m\u001b[0m\u001b[0;34m\u001b[0m\u001b[0m\n\u001b[1;32m   1218\u001b[0m                 \u001b[0;31m# re-raise KeyboardInterrupt, to truncate traceback\u001b[0m\u001b[0;34m\u001b[0m\u001b[0;34m\u001b[0m\u001b[0m\n\u001b[0;32m-> 1219\u001b[0;31m                 \u001b[0;32mraise\u001b[0m \u001b[0mKeyboardInterrupt\u001b[0m\u001b[0;34m(\u001b[0m\u001b[0;34m\"Interrupted by user\"\u001b[0m\u001b[0;34m)\u001b[0m \u001b[0;32mfrom\u001b[0m \u001b[0;32mNone\u001b[0m\u001b[0;34m\u001b[0m\u001b[0;34m\u001b[0m\u001b[0m\n\u001b[0m\u001b[1;32m   1220\u001b[0m             \u001b[0;32mexcept\u001b[0m \u001b[0mException\u001b[0m\u001b[0;34m:\u001b[0m\u001b[0;34m\u001b[0m\u001b[0;34m\u001b[0m\u001b[0m\n\u001b[1;32m   1221\u001b[0m                 \u001b[0mself\u001b[0m\u001b[0;34m.\u001b[0m\u001b[0mlog\u001b[0m\u001b[0;34m.\u001b[0m\u001b[0mwarning\u001b[0m\u001b[0;34m(\u001b[0m\u001b[0;34m\"Invalid Message:\"\u001b[0m\u001b[0;34m,\u001b[0m \u001b[0mexc_info\u001b[0m\u001b[0;34m=\u001b[0m\u001b[0;32mTrue\u001b[0m\u001b[0;34m)\u001b[0m\u001b[0;34m\u001b[0m\u001b[0;34m\u001b[0m\u001b[0m\n",
      "\u001b[0;31mKeyboardInterrupt\u001b[0m: Interrupted by user"
     ]
    }
   ],
   "source": [
    "n = int(input())\n",
    "#불만이 최소가 되도록\n",
    "anti = []\n",
    "\n",
    "for _ in range(n) :\n",
    "    anti.append(int(input()))\n",
    "    \n",
    "anti.sort()\n",
    "\n",
    "answer = 0\n",
    "for i in range(1,n+1) :\n",
    "    answer += abs(i-anti[i-1])\n",
    "    \n",
    "print(answer)"
   ]
  },
  {
   "cell_type": "code",
   "execution_count": 3,
   "id": "a1fc4546",
   "metadata": {},
   "outputs": [
    {
     "data": {
      "text/plain": [
       "3"
      ]
     },
     "execution_count": 3,
     "metadata": {},
     "output_type": "execute_result"
    }
   ],
   "source": [
    "answer"
   ]
  },
  {
   "cell_type": "code",
   "execution_count": null,
   "id": "2f156c13",
   "metadata": {},
   "outputs": [],
   "source": [
    "ababababa\n",
    "aba\n",
    "\n"
   ]
  },
  {
   "cell_type": "code",
   "execution_count": 7,
   "id": "7f7f9909",
   "metadata": {},
   "outputs": [
    {
     "name": "stdout",
     "output_type": "stream",
     "text": [
      "a a a a a a a\n",
      "a a\n",
      "0\n"
     ]
    }
   ],
   "source": [
    "a = input()\n",
    "b = input()\n",
    "\n",
    "\n",
    "a= a.replace(b, \"*\")\n",
    "\n",
    "cnt = 0 \n",
    "\n",
    "for i in a :\n",
    "    if i == \"*\" :\n",
    "        cnt += 1\n",
    "        \n",
    "print(cnt)"
   ]
  },
  {
   "cell_type": "code",
   "execution_count": 8,
   "id": "26f7b0a4",
   "metadata": {},
   "outputs": [
    {
     "data": {
      "text/plain": [
       "'a a'"
      ]
     },
     "execution_count": 8,
     "metadata": {},
     "output_type": "execute_result"
    }
   ],
   "source": [
    "b"
   ]
  },
  {
   "cell_type": "code",
   "execution_count": 9,
   "id": "c4864835",
   "metadata": {},
   "outputs": [
    {
     "data": {
      "text/plain": [
       "'a a a a a a a'"
      ]
     },
     "execution_count": 9,
     "metadata": {},
     "output_type": "execute_result"
    }
   ],
   "source": [
    "a"
   ]
  },
  {
   "cell_type": "code",
   "execution_count": 10,
   "id": "f377dbec",
   "metadata": {},
   "outputs": [
    {
     "data": {
      "text/plain": [
       "'* * * a'"
      ]
     },
     "execution_count": 10,
     "metadata": {},
     "output_type": "execute_result"
    }
   ],
   "source": [
    "a.replace(b, \"*\")"
   ]
  },
  {
   "cell_type": "code",
   "execution_count": null,
   "id": "4b327296",
   "metadata": {},
   "outputs": [],
   "source": [
    "4 2 3 10\n"
   ]
  },
  {
   "cell_type": "code",
   "execution_count": 52,
   "id": "d32a99a5",
   "metadata": {},
   "outputs": [
    {
     "name": "stdout",
     "output_type": "stream",
     "text": [
      "25 18 7 11\n",
      "cha is  7\n",
      "247\n"
     ]
    }
   ],
   "source": [
    "#1459 걷기\n",
    "\n",
    "x,y,n,c = map(int,input().split())\n",
    "\n",
    "result = 0\n",
    "#좌표에 0이 포함되어 있을 때\n",
    "if min(x,y) == 0 and n > c:\n",
    "    result = 0\n",
    "    maxXY = max(x,y)\n",
    "    #최대한 대각선으로 갔을 때\n",
    "    t2 = (maxXY // 2)\n",
    "    result += t2*c*2\n",
    "    result += (maxXY-t2*2)*n\n",
    "    \n",
    " # 이게 최소인만큼 갔다가\n",
    "else :\n",
    "    #대각선으로 가는 게 낫다!\n",
    "    if c < 2*n :\n",
    "        minVal = min(x,y)\n",
    "        result += minVal * c\n",
    "        cha = abs(x-y)\n",
    "        if c<n : #2씩 가는 건 2n이거나 2c 이거나임.\n",
    "            t2 = (cha // 2)\n",
    "            result += t2*c*2\n",
    "            result += (cha-(t2*2))*n\n",
    "        else : \n",
    "            result += cha*n\n",
    "\n",
    "    #직선으로 가는 게 낫다!\n",
    "    else : \n",
    "        result = n*(x +y)\n",
    "print(result)"
   ]
  },
  {
   "cell_type": "code",
   "execution_count": 23,
   "id": "cc4d6207",
   "metadata": {},
   "outputs": [
    {
     "name": "stdout",
     "output_type": "stream",
     "text": [
      "2 0 12 10\n"
     ]
    }
   ],
   "source": [
    "x,y,n,c = map(int,input().split())\n",
    "if min(x,y) == 0 :\n",
    "    result = 0\n",
    "    maxXY = max(x,y)\n",
    "    #최대한 대각선으로 갔을 때\n",
    "    t2 = (maxXY // 2)\n",
    "    result += t2*c*2\n",
    "    result += (maxXY-t2*2)*n"
   ]
  },
  {
   "cell_type": "code",
   "execution_count": 24,
   "id": "29289160",
   "metadata": {},
   "outputs": [
    {
     "data": {
      "text/plain": [
       "20"
      ]
     },
     "execution_count": 24,
     "metadata": {},
     "output_type": "execute_result"
    }
   ],
   "source": [
    "result"
   ]
  },
  {
   "cell_type": "code",
   "execution_count": null,
   "id": "26e89dae",
   "metadata": {},
   "outputs": [],
   "source": [
    "1. 먼저 하나의 옵션에 대해 왼쪽에서부터 오른쪽 순서로 단어의 첫 글자가 이미 단축키로 지정되었는지 살펴본다. \n",
    "2. 만약 단축키로 아직 지정이 안 되어있다면 그 알파벳을 단축키로 지정한다.\n",
    "3. 만약 모든 단어의 첫 글자가 이미 지정이 되어있다면 왼쪽에서부터 차례대로 알파벳을 보면서 단축키로 지정 안 된 것이 있다면 단축키로 지정한다.\n",
    "4. 어떠한 것도 단축키로 지정할 수 없다면 그냥 놔두며 대소문자를 구분치 않는다.\n",
    "위의 규칙을 첫 번째 옵션부터 N번째 옵션까지 차례대로 적용한다.\n",
    "\n",
    "8\n",
    "[N]ew window\n",
    "New [f]ile\n",
    "[C]opy\n",
    "[U]ndo\n",
    "F[o]rmat\n",
    "Fon[t]\n",
    "Cut\n",
    "[P]aste\n"
   ]
  },
  {
   "cell_type": "code",
   "execution_count": 81,
   "id": "c56d8fe0",
   "metadata": {},
   "outputs": [
    {
     "name": "stdout",
     "output_type": "stream",
     "text": [
      "8\n",
      "New window\n",
      "[N]ewwindow\n",
      "New file\n",
      "New[f]ile\n",
      "Copy\n",
      "[C]opy\n",
      "\n",
      "Undo\n",
      "[U]ndo\n",
      "\n",
      "Format\n",
      "F[o]rmat\n",
      "\n",
      "Font\n",
      "Fon[t]\n",
      "\n",
      "Cut\n",
      "Cut\n",
      "Paste\n",
      "[P]aste\n",
      "\n"
     ]
    }
   ],
   "source": [
    "n = int(input())\n",
    "shortcut = set()\n",
    "\n",
    "#이중 삼중 리스트로 바꿔야지~!!\n",
    "\n",
    "for _ in range(n):\n",
    "    inp = input()\n",
    "    ok = False\n",
    "    #1. 먼저 하나의 옵션에 대해 왼쪽에서부터 오른쪽 순서로 단어의 첫 글자가 이미 단축키로 지정되었는지 살펴본다. \n",
    "    inp_li = inp.split()\n",
    "    answer = ''\n",
    "    if len(inp_li) > 1 : \n",
    "        \n",
    "    \n",
    "        for li in inp_li :\n",
    "            if li[0] not in shortcut and ok == False: #첫번째가 단축키가 아닌가?\n",
    "                shortcut.add(li[0].upper())\n",
    "                answer += '[' + li[0] + ']'\n",
    "                for l in li[1:]:\n",
    "                    answer += l\n",
    "                ok = True\n",
    "            else:  # li[0] in shortcut 단축키가 있으면 그냥 print\n",
    "                answer += ''.join(li)\n",
    "    else : \n",
    "        for idx, item in enumerate(inp) :\n",
    "            if item.upper() not in shortcut : #단축키 없으면 해야지~\n",
    "                print('[', end = '')\n",
    "                print(item, end = '')\n",
    "                print(']', end = '')\n",
    "                shortcut.add(item.upper())\n",
    "                print(''.join(inp[idx+1:]))\n",
    "                break\n",
    "            else : \n",
    "                print(item, end = '')\n",
    "\n",
    "    print(answer)\n",
    "    \n",
    "    #띄어쓰기만 해결하면 될듯"
   ]
  },
  {
   "cell_type": "code",
   "execution_count": 56,
   "id": "f13b9fb0",
   "metadata": {},
   "outputs": [
    {
     "data": {
      "text/plain": [
       "'A'"
      ]
     },
     "execution_count": 56,
     "metadata": {},
     "output_type": "execute_result"
    }
   ],
   "source": [
    "8\n",
    "New window\n",
    "New file\n",
    "Copy\n",
    "Undo\n",
    "Format\n",
    "Font\n",
    "Cut\n",
    "Paste"
   ]
  },
  {
   "cell_type": "code",
   "execution_count": null,
   "id": "79a5f4a5",
   "metadata": {},
   "outputs": [],
   "source": [
    "for i in [ip,pp]"
   ]
  },
  {
   "cell_type": "code",
   "execution_count": null,
   "id": "088f5a49",
   "metadata": {},
   "outputs": [],
   "source": [
    "for idx, item in enumerate(inp) :\n",
    "        if item.upper() not in shortcut : #단축키 없으면 해야지~\n",
    "            print('[', end = '')\n",
    "            print(item, end = '')\n",
    "            print(']', end = '')\n",
    "            shortcut.add(item.upper())\n",
    "            print(''.join(inp[idx+1:]))\n",
    "            break\n",
    "        else : \n",
    "            print(item, end = '')"
   ]
  }
 ],
 "metadata": {
  "kernelspec": {
   "display_name": "Python 3 (ipykernel)",
   "language": "python",
   "name": "python3"
  },
  "language_info": {
   "codemirror_mode": {
    "name": "ipython",
    "version": 3
   },
   "file_extension": ".py",
   "mimetype": "text/x-python",
   "name": "python",
   "nbconvert_exporter": "python",
   "pygments_lexer": "ipython3",
   "version": "3.9.13"
  }
 },
 "nbformat": 4,
 "nbformat_minor": 5
}
