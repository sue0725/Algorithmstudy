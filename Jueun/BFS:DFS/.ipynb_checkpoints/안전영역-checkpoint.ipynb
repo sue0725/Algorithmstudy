{
 "cells": [
  {
   "cell_type": "code",
   "execution_count": null,
   "id": "25727fb5",
   "metadata": {},
   "outputs": [],
   "source": [
    "import sys\n",
    "sys.setrecursionlimit(10**6)\n",
    "input = sys.stdin.readline\n",
    "\n",
    "n = int(input())\n",
    "data = [[] for _ in range(n)]\n",
    "maxVal = 0\n",
    "minVal = 101      \n",
    "for i in range(n) :\n",
    "    data[i] = list(map(int,input().split()))\n",
    "    maxVal = max(maxVal,max(data[i]))\n",
    "    minVal = min(minVal, min(data[i]))\n",
    "    \n",
    "x = [0,0,-1,1]\n",
    "y = [1,-1,0,0]\n",
    "\n",
    "def findSafeArea(sinked,m) :\n",
    "    answer = 0\n",
    "    for h in range(len(sinked)):\n",
    "        for o in range(len(sinked)):\n",
    "            if sinked[h][o] == False and visited[h][o] == False:\n",
    "                dfs((h,o),m)\n",
    "                answer += 1\n",
    "    answers[m] = answer\n",
    "        \n",
    "        \n",
    "def dfs(node,m) :\n",
    "    a,b = node\n",
    "    visited[a][b] = True\n",
    "    for d in range(4):\n",
    "        xx = a+x[d]\n",
    "        yy = b+y[d]\n",
    "        if -1<xx<n and -1<yy<n and visited[xx][yy] == False and sinked[xx][yy] == False :\n",
    "            dfs((xx,yy),m)\n",
    "            \n",
    "\n",
    "answers = {}\n",
    "result = 0\n",
    "for m in reversed(range(minVal-1, maxVal)):\n",
    "    answer = 0\n",
    "    sinked = [[False for _ in range(n)] for _ in range(n)]\n",
    "    visited = [[False for _ in range(n)] for _ in range(n)]\n",
    "    for i in range(n):\n",
    "        for j in range(n):\n",
    "            if data[i][j] <= m: \n",
    "                sinked[i][j] = True\n",
    "    findSafeArea(sinked,m)\n",
    "    \n",
    "print(max(answers.values()))"
   ]
  }
 ],
 "metadata": {
  "kernelspec": {
   "display_name": "Python 3 (ipykernel)",
   "language": "python",
   "name": "python3"
  },
  "language_info": {
   "codemirror_mode": {
    "name": "ipython",
    "version": 3
   },
   "file_extension": ".py",
   "mimetype": "text/x-python",
   "name": "python",
   "nbconvert_exporter": "python",
   "pygments_lexer": "ipython3",
   "version": "3.9.13"
  }
 },
 "nbformat": 4,
 "nbformat_minor": 5
}
