{
 "cells": [
  {
   "cell_type": "code",
   "execution_count": null,
   "id": "6ef45e0d",
   "metadata": {},
   "outputs": [],
   "source": [
    "from collections import deque\n",
    "n = int(input())\n",
    "a,b = map(int,input().split())\n",
    "queue = deque([a])\n",
    "neighbor = [102 for _ in range(n+1)]\n",
    "neighbor[a] = 0\n",
    "data = [[]for _ in range(n+1)]\n",
    "for _ in range(int(input())) :\n",
    "    x,y = map(int,input().split())\n",
    "    data[x].append(y)\n",
    "    data[y].append(x)\n",
    "\n",
    "while queue :\n",
    "    i = queue.popleft()\n",
    "    for j in data[i] :\n",
    "        if neighbor[j] == 102 :\n",
    "            queue.append(j)\n",
    "            neighbor[j] = neighbor[i]+1\n",
    "            if j == b :\n",
    "                print(neighbor[j])\n",
    "                break\n",
    "if neighbor[b] ==  102 :\n",
    "    print(-1)\n",
    "    "
   ]
  }
 ],
 "metadata": {
  "kernelspec": {
   "display_name": "Python 3 (ipykernel)",
   "language": "python",
   "name": "python3"
  },
  "language_info": {
   "codemirror_mode": {
    "name": "ipython",
    "version": 3
   },
   "file_extension": ".py",
   "mimetype": "text/x-python",
   "name": "python",
   "nbconvert_exporter": "python",
   "pygments_lexer": "ipython3",
   "version": "3.9.13"
  }
 },
 "nbformat": 4,
 "nbformat_minor": 5
}
