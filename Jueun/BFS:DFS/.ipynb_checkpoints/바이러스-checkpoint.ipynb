{
 "cells": [
  {
   "cell_type": "code",
   "execution_count": 1,
   "id": "f36cb460",
   "metadata": {},
   "outputs": [
    {
     "name": "stdout",
     "output_type": "stream",
     "text": [
      "2\n",
      "1 1\n",
      "1 1\n",
      "1\n"
     ]
    }
   ],
   "source": [
    "from collections import deque\n",
    "n = int(input())\n",
    "data = [ [] for _ in range(n+1)]\n",
    "affected = [False for _ in range(n+1)]\n",
    "affected[1] = True\n",
    "queue = deque([1])\n",
    "for _ in range(int(input())):\n",
    "  a,b = map(int,input().split())\n",
    "  data[a].append(b)\n",
    "  data[b].append(a)\n",
    "\n",
    "answer = 0\n",
    "while queue :\n",
    "  x = queue.popleft()\n",
    "  data[x].sort()\n",
    "  for i in  data[x]:\n",
    "    if affected[i] == False :\n",
    "      queue.append(i)\n",
    "      affected[i] = True\n",
    "      answer += 1\n",
    "\n",
    "print(answer)"
   ]
  }
 ],
 "metadata": {
  "kernelspec": {
   "display_name": "Python 3 (ipykernel)",
   "language": "python",
   "name": "python3"
  },
  "language_info": {
   "codemirror_mode": {
    "name": "ipython",
    "version": 3
   },
   "file_extension": ".py",
   "mimetype": "text/x-python",
   "name": "python",
   "nbconvert_exporter": "python",
   "pygments_lexer": "ipython3",
   "version": "3.9.13"
  }
 },
 "nbformat": 4,
 "nbformat_minor": 5
}
