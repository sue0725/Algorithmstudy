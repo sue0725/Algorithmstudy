{
 "cells": [
  {
   "cell_type": "code",
   "execution_count": null,
   "id": "c03a8baa",
   "metadata": {},
   "outputs": [],
   "source": [
    "6 4\n",
    "0 0 0 0 0 0\n",
    "0 0 0 0 0 0\n",
    "0 0 0 0 0 0\n",
    "0 0 0 0 0 1\n",
    "\n",
    "저장될 때부터 모든 토마토가 익어있는 상태이면 0을 출력해야 하고,\n",
    "토마토가 모두 익지는 못하는 상황이면 -1을 출력해야 한다."
   ]
  },
  {
   "cell_type": "code",
   "execution_count": 10,
   "id": "6f20d90c",
   "metadata": {},
   "outputs": [
    {
     "name": "stdout",
     "output_type": "stream",
     "text": [
      "5 5\n",
      "-1 1 0 0 0\n",
      "0 -1 -1 -1 0\n",
      "0 -1 -1 -1 0\n",
      "0 -1 -1 -1 0\n",
      "0 0 0 0 0\n",
      "14\n"
     ]
    }
   ],
   "source": [
    "from collections import deque\n",
    "\n",
    "queue = deque([])\n",
    "n,m = map(int,input().split())\n",
    "tomatos = [[]for _ in range(m)]\n",
    "rotten = [[0 for _ in range(n)]for _ in range(m)]\n",
    "for i in range(m):\n",
    "    tomatos[i] = list(map(int,input().split()))\n",
    "    for j in range(n) : \n",
    "        if tomatos[i][j] == -1 or tomatos[i][j] == 1:  \n",
    "            rotten[i][j] = 1\n",
    "        if tomatos[i][j] == 1:\n",
    "            queue.append((i,j))\n",
    "\n",
    "\n",
    "def bfs():\n",
    "    x = [1,-1,0,0]\n",
    "    y = [0,0,-1,1]\n",
    "    \n",
    "    while queue : \n",
    "        a,b = queue.popleft()\n",
    "        for d in range(4) :\n",
    "            a1 = a + x[d]\n",
    "            b1 = b + y[d]\n",
    "            \n",
    "            if -1 < a1 < m and -1 < b1 < n and rotten[a1][b1] == 0 and tomatos[a1][b1] == 0:\n",
    "                queue.append((a1,b1))\n",
    "                rotten[a1][b1] = rotten[a][b] + 1\n",
    "\n",
    "def result() :\n",
    "    maxVal = 0\n",
    "    for rot in rotten :\n",
    "        if 0 in rot : #익지 않은 애가 있어요.\n",
    "            return -1\n",
    "        maxVal = max(max(rot), maxVal)\n",
    "        \n",
    "    if maxVal == 1 :\n",
    "        return 0\n",
    "    else :\n",
    "        return maxVal - 1\n",
    "\n",
    "bfs()\n",
    "print(result())"
   ]
  },
  {
   "cell_type": "markdown",
   "id": "d6eef945",
   "metadata": {},
   "source": [
    "##### 5 5\n",
    "-1 1 0 0 0\n",
    "0 -1 -1 -1 0\n",
    "0 -1 -1 -1 0\n",
    "0 -1 -1 -1 0\n",
    "0 0 0 0 0"
   ]
  },
  {
   "cell_type": "code",
   "execution_count": 80,
   "id": "2c6f7107",
   "metadata": {},
   "outputs": [
    {
     "data": {
      "text/plain": [
       "[[9, 8, 7, 6, 5, 4],\n",
       " [8, 7, 6, 5, 4, 3],\n",
       " [7, 6, 5, 4, 3, 2],\n",
       " [6, 5, 4, 3, 2, 1]]"
      ]
     },
     "execution_count": 80,
     "metadata": {},
     "output_type": "execute_result"
    }
   ],
   "source": [
    "rotten"
   ]
  },
  {
   "cell_type": "code",
   "execution_count": 81,
   "id": "32229d2e",
   "metadata": {
    "scrolled": true
   },
   "outputs": [
    {
     "data": {
      "text/plain": [
       "[[0, 0, 0, 0, 0, 0],\n",
       " [0, 0, 0, 0, 0, 0],\n",
       " [0, 0, 0, 0, 0, 0],\n",
       " [0, 0, 0, 0, 0, 1]]"
      ]
     },
     "execution_count": 81,
     "metadata": {},
     "output_type": "execute_result"
    }
   ],
   "source": [
    "tomatos"
   ]
  },
  {
   "cell_type": "code",
   "execution_count": null,
   "id": "b70e7a55",
   "metadata": {},
   "outputs": [],
   "source": []
  }
 ],
 "metadata": {
  "kernelspec": {
   "display_name": "Python 3 (ipykernel)",
   "language": "python",
   "name": "python3"
  },
  "language_info": {
   "codemirror_mode": {
    "name": "ipython",
    "version": 3
   },
   "file_extension": ".py",
   "mimetype": "text/x-python",
   "name": "python",
   "nbconvert_exporter": "python",
   "pygments_lexer": "ipython3",
   "version": "3.11.4"
  }
 },
 "nbformat": 4,
 "nbformat_minor": 5
}
