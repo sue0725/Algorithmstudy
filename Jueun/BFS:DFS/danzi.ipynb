{
 "cells": [
  {
   "cell_type": "code",
   "execution_count": 7,
   "id": "fec2174a",
   "metadata": {},
   "outputs": [
    {
     "name": "stdout",
     "output_type": "stream",
     "text": [
      "3\n",
      "100\n",
      "011\n",
      "011\n",
      "2\n"
     ]
    },
    {
     "ename": "TypeError",
     "evalue": "'NoneType' object is not iterable",
     "output_type": "error",
     "traceback": [
      "\u001b[0;31m---------------------------------------------------------------------------\u001b[0m",
      "\u001b[0;31mTypeError\u001b[0m                                 Traceback (most recent call last)",
      "Cell \u001b[0;32mIn[7], line 39\u001b[0m\n\u001b[1;32m     36\u001b[0m danji_cnt \u001b[38;5;241m=\u001b[39m \u001b[38;5;28mlen\u001b[39m(home_dic\u001b[38;5;241m.\u001b[39mkeys())     \n\u001b[1;32m     38\u001b[0m \u001b[38;5;28mprint\u001b[39m(danji_cnt)\n\u001b[0;32m---> 39\u001b[0m \u001b[38;5;28;01mfor\u001b[39;00m i \u001b[38;5;129;01min\u001b[39;00m \u001b[38;5;28mlist\u001b[39m(home_dic\u001b[38;5;241m.\u001b[39mitems())\u001b[38;5;241m.\u001b[39msort():\n\u001b[1;32m     40\u001b[0m     \u001b[38;5;28mprint\u001b[39m(i)\n",
      "\u001b[0;31mTypeError\u001b[0m: 'NoneType' object is not iterable"
     ]
    }
   ],
   "source": [
    "from collections import deque\n",
    "n = int(input())\n",
    "houses = [[ [] for _ in range(n)] for _ in range(n)]\n",
    "visited = [[ False for _ in range(n)] for _ in range(n)]\n",
    "home_dic = {}\n",
    "queue = deque([])\n",
    "\n",
    "for i in range(n) :\n",
    "    houses[i] = list(input())\n",
    "    \n",
    "x = [0,0,-1,1]\n",
    "y = [1,-1,0,0]\n",
    "\n",
    "def bfs(danji) :\n",
    "    while queue: \n",
    "        a,b = queue.popleft()\n",
    "        for d in range(4) :\n",
    "            xx = a + x[d]\n",
    "            yy = b + y[d]\n",
    "            if -1 < xx < n and -1 < yy < n and visited[xx][yy] == False and houses[xx][yy] == '1' :\n",
    "                queue.append((xx,yy))\n",
    "                visited[xx][yy] = True\n",
    "                home_dic[danji] += 1 \n",
    "    \n",
    "    \n",
    "danji = 0    \n",
    "for i in range(n):\n",
    "    for j in range(n):\n",
    "        if visited[i][j] == False and houses[i][j] == '1' :\n",
    "            queue.append((i,j))\n",
    "            visited[i][j] = True\n",
    "            danji += 1\n",
    "            home_dic[danji] = 1\n",
    "            bfs(danji)\n",
    "            \n",
    "danji_cnt = len(home_dic.keys())     \n",
    "\n",
    "print(danji_cnt)\n",
    "for i in sorted(list(home_dic.values())) :\n",
    "    print(i)"
   ]
  }
 ],
 "metadata": {
  "kernelspec": {
   "display_name": "Python 3 (ipykernel)",
   "language": "python",
   "name": "python3"
  },
  "language_info": {
   "codemirror_mode": {
    "name": "ipython",
    "version": 3
   },
   "file_extension": ".py",
   "mimetype": "text/x-python",
   "name": "python",
   "nbconvert_exporter": "python",
   "pygments_lexer": "ipython3",
   "version": "3.11.4"
  }
 },
 "nbformat": 4,
 "nbformat_minor": 5
}
