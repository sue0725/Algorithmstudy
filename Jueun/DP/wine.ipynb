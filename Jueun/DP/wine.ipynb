{
 "cells": [
  {
   "cell_type": "code",
   "execution_count": 1,
   "id": "1ac7ae97",
   "metadata": {},
   "outputs": [
    {
     "data": {
      "text/plain": [
       "1"
      ]
     },
     "execution_count": 1,
     "metadata": {},
     "output_type": "execute_result"
    }
   ],
   "source": [
    "6\n",
    "6\n",
    "10\n",
    "13\n",
    "9\n",
    "8\n",
    "1"
   ]
  },
  {
   "cell_type": "code",
   "execution_count": 2,
   "id": "ef8dbe34",
   "metadata": {},
   "outputs": [
    {
     "name": "stdout",
     "output_type": "stream",
     "text": [
      "3\n",
      "10\n",
      "1\n",
      "10\n",
      "20\n"
     ]
    }
   ],
   "source": [
    "import copy\n",
    "\n",
    "n = int(input())\n",
    "wines = [0 for _ in range(n)]\n",
    "for i in range(n) :\n",
    "    wines[i] = int(input())\n",
    "    \n",
    "dp = [0 for _ in range(n)]\n",
    "\n",
    "if n > 0 : #와인이 1잔 이상 있으면?\n",
    "    dp[0] = wines[0] \n",
    "if n > 1 : #와인이 2잔 이상 있으면?\n",
    "    dp[1] = wines[0] + wines[1]\n",
    "if n > 2 : #와인이 3잔 이상 있으면?\n",
    "    dp[2] = max(max(wines[0] ,wines[1]) + wines[2], dp[1])\n",
    "    \n",
    "for w in range(3,n) :\n",
    "    dp[w] = max(max(dp[w-2] , dp[w-3] + wines[w-1], ) + wines[w],dp[w-1])\n",
    "print(max(dp))"
   ]
  },
  {
   "cell_type": "code",
   "execution_count": null,
   "id": "41e0cb1c",
   "metadata": {},
   "outputs": [],
   "source": [
    "3\n",
    "10\n",
    "1\n",
    "10\n",
    "    \n",
    "답 20\n",
    "출력 11"
   ]
  },
  {
   "cell_type": "code",
   "execution_count": null,
   "id": "bc7ab605",
   "metadata": {},
   "outputs": [],
   "source": []
  }
 ],
 "metadata": {
  "kernelspec": {
   "display_name": "Python 3 (ipykernel)",
   "language": "python",
   "name": "python3"
  },
  "language_info": {
   "codemirror_mode": {
    "name": "ipython",
    "version": 3
   },
   "file_extension": ".py",
   "mimetype": "text/x-python",
   "name": "python",
   "nbconvert_exporter": "python",
   "pygments_lexer": "ipython3",
   "version": "3.11.4"
  }
 },
 "nbformat": 4,
 "nbformat_minor": 5
}
