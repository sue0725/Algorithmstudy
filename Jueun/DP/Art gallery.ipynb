{
 "cells": [
  {
   "cell_type": "code",
   "execution_count": null,
   "id": "93880f9e",
   "metadata": {},
   "outputs": [],
   "source": [
    "# DP\n",
    "# 직선으로 선택하거나, 아니면 그냥 넘어가기"
   ]
  },
  {
   "cell_type": "code",
   "execution_count": null,
   "id": "7d859634",
   "metadata": {},
   "outputs": [],
   "source": [
    "#input\n",
    "6 4\n",
    "3 1\n",
    "2 1\n",
    "1 2\n",
    "1 3\n",
    "3 3\n",
    "0 0\n",
    "0 0\n",
    "\n",
    "\n",
    "4 3\n",
    "3 4\n",
    "1 1\n",
    "1 1\n",
    "5 6\n",
    "0 0\n",
    "\n",
    "10 5\n",
    "7 8\n",
    "4 9\n",
    "3 7\n",
    "5 9\n",
    "7 2\n",
    "10 3\n",
    "0 10\n",
    "3 2\n",
    "6 3\n",
    "7 9\n",
    "0 0"
   ]
  },
  {
   "cell_type": "code",
   "execution_count": null,
   "id": "c4fa0d1e",
   "metadata": {},
   "outputs": [],
   "source": [
    "n,k = map(int,input().split())\n",
    "\n",
    "galleries = [[] for _ in range(n+2)]\n",
    "for nn in range(1,n+2) :\n",
    "    galleries[nn] = list(map(int, input().split()))\n",
    "    \n",
    "    \n",
    "dp = [[[0 for _ in range(3)]for _ in range(k+1)]for _ in range(n+1)]\n",
    "if k != 0 :\n",
    "    dp[1][1][0] = galleries[1][1];\n",
    "    dp[1][1][1] = galleries[1][0];\n",
    "    dp[1][0][2] = galleries[1][1] + galleries[1][0];\n",
    "\n",
    "\n",
    "    #dp[n][c][s] : n행까지 c개를 close하고 s의 shape일 때.\n",
    "    ### shape ###\n",
    "    # ■□ : 0\n",
    "    # □■ : 1\n",
    "    # □□ : 2\n",
    "\n",
    "    for i in range(2,n+1) :\n",
    "        for c in range(1,k+1) :\n",
    "            dp[i][c][0] = max(dp[i - 1][c - 1][0], dp[i - 1][c - 1][2]) + galleries[i][1]\n",
    "            dp[i][c][1] = max(dp[i - 1][c - 1][1], dp[i - 1][c - 1][2]) + galleries[i][0]\n",
    "            if (i != c)  :   # 닫힌거랑 행의 수랑 같지 않다 -> 모든 것이 닫힌 것이 아니라면\n",
    "                dp[i][c][2] = max(dp[i - 1][c][0], dp[i - 1][c][1], dp[i - 1][c][2]) + galleries[i][0] + galleries[i][1]\n",
    "\n",
    "    print(max(dp[n][k]))\n",
    "else : \n",
    "    hap = 0\n",
    "    for g in galleries :\n",
    "        hap += sum(g)\n",
    "    print(hap)"
   ]
  },
  {
   "cell_type": "code",
   "execution_count": null,
   "id": "cc6405ed",
   "metadata": {},
   "outputs": [],
   "source": [
    "dp"
   ]
  }
 ],
 "metadata": {
  "kernelspec": {
   "display_name": "Python 3 (ipykernel)",
   "language": "python",
   "name": "python3"
  },
  "language_info": {
   "codemirror_mode": {
    "name": "ipython",
    "version": 3
   },
   "file_extension": ".py",
   "mimetype": "text/x-python",
   "name": "python",
   "nbconvert_exporter": "python",
   "pygments_lexer": "ipython3",
   "version": "3.9.13"
  }
 },
 "nbformat": 4,
 "nbformat_minor": 5
}
