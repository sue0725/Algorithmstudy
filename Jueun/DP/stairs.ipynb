{
 "cells": [
  {
   "cell_type": "code",
   "execution_count": null,
   "id": "c67d8641",
   "metadata": {},
   "outputs": [],
   "source": [
    "6\n",
    "10\n",
    "20\n",
    "15\n",
    "25\n",
    "10\n",
    "20"
   ]
  },
  {
   "cell_type": "code",
   "execution_count": 52,
   "id": "c37e103a",
   "metadata": {},
   "outputs": [
    {
     "name": "stdout",
     "output_type": "stream",
     "text": [
      "6\n",
      "123\n",
      "14\n",
      "3\n",
      "2\n",
      "14\n",
      "3\n",
      "143\n"
     ]
    }
   ],
   "source": [
    "import copy\n",
    "n = int(input())\n",
    "stairs = []\n",
    "stairs.append(0)\n",
    "for _ in range(n) :\n",
    "    stairs.append(int(input()))\n",
    "    \n",
    "stairs.reverse()\n",
    "\n",
    "dp = [0 for _ in range(n+1)] \n",
    "#dp[n] : n-1번째 계단을 밟을 때 최대 가치\n",
    "\n",
    "if n > 0 :  #계단이 1개 이상일 때 \n",
    "    dp[0] = stairs[0]\n",
    "if n > 1 :  #계단이 2개 이상일 떄\n",
    "    dp[1] = stairs[0] + stairs[1]\n",
    "if n>2 :  #계단이 3개이상일 때\n",
    "    dp[2] = stairs[2]+ stairs[0]\n",
    "for i in range(3,n+1) :\n",
    "    dp[i] = max(dp[i-3] + stairs[i-1] , dp[i-2]) + stairs[i]\n",
    "print(max(dp))"
   ]
  },
  {
   "cell_type": "code",
   "execution_count": 49,
   "id": "e577cd43",
   "metadata": {},
   "outputs": [
    {
     "data": {
      "text/plain": [
       "[4, 18, 18, 21, 35, 155, 0]"
      ]
     },
     "execution_count": 49,
     "metadata": {},
     "output_type": "execute_result"
    }
   ],
   "source": [
    "dp"
   ]
  },
  {
   "cell_type": "code",
   "execution_count": 13,
   "id": "17749d3f",
   "metadata": {},
   "outputs": [],
   "source": [
    "stairs = [10,20,15,25,10,20]"
   ]
  },
  {
   "cell_type": "code",
   "execution_count": 29,
   "id": "c7047696",
   "metadata": {},
   "outputs": [
    {
     "data": {
      "text/plain": [
       "[0, 20, 10, 15, 25, 20, 10, 0]"
      ]
     },
     "execution_count": 29,
     "metadata": {},
     "output_type": "execute_result"
    }
   ],
   "source": [
    "6\n",
    "123\n",
    "14\n",
    "3\n",
    "2\n",
    "13\n",
    "4\n",
    "\n",
    "답: 143\n",
    "출력: 154"
   ]
  },
  {
   "cell_type": "code",
   "execution_count": null,
   "id": "4b130d91",
   "metadata": {},
   "outputs": [],
   "source": [
    "20 30 "
   ]
  }
 ],
 "metadata": {
  "kernelspec": {
   "display_name": "Python 3 (ipykernel)",
   "language": "python",
   "name": "python3"
  },
  "language_info": {
   "codemirror_mode": {
    "name": "ipython",
    "version": 3
   },
   "file_extension": ".py",
   "mimetype": "text/x-python",
   "name": "python",
   "nbconvert_exporter": "python",
   "pygments_lexer": "ipython3",
   "version": "3.11.4"
  }
 },
 "nbformat": 4,
 "nbformat_minor": 5
}
