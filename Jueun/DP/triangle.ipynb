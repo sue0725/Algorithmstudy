{
 "cells": [
  {
   "cell_type": "code",
   "execution_count": null,
   "id": "81f71355",
   "metadata": {},
   "outputs": [],
   "source": [
    "5\n",
    "7\n",
    "3 8\n",
    "8 1 0\n",
    "2 7 4 4\n",
    "4 5 2 6 5"
   ]
  },
  {
   "cell_type": "code",
   "execution_count": null,
   "id": "a953af2c",
   "metadata": {},
   "outputs": [],
   "source": [
    "        7\n",
    "      3   8\n",
    "    8   1   0\n",
    "  2   7   4   4\n",
    "4   5   2   6   5"
   ]
  },
  {
   "cell_type": "code",
   "execution_count": 1,
   "id": "a8b23734",
   "metadata": {},
   "outputs": [
    {
     "name": "stdout",
     "output_type": "stream",
     "text": [
      "5\n",
      "7\n",
      "3 8\n",
      "8 1 0\n",
      "2 7 4 4\n",
      "4 5 2 6 5\n",
      "30\n"
     ]
    }
   ],
   "source": [
    "import copy\n",
    "n = int(input())\n",
    "li = [0 for _ in range(n)]\n",
    "for i in range(n) :\n",
    "    li[i] = list(map(int,input().split()))\n",
    "    \n",
    "dp = copy.deepcopy(li)\n",
    "\n",
    "for i in range(1,n):\n",
    "    for j in range(len(dp[i])):\n",
    "        if j == 0 : #제일 끝애니까 방법이 없음\n",
    "            dp[i][j] = dp[i-1][j] + li[i][j]\n",
    "        elif i == j : #제일 끝애임.\n",
    "            dp[i][j] = dp[i-1][j-1] + li[i][j]\n",
    "        else: #비교가 가능한 애임 \n",
    "            dp[i][j] = max(dp[i-1][j] + li[i][j] , dp[i-1][j-1] + li[i][j])\n",
    "print(max(dp[n-1]))"
   ]
  },
  {
   "cell_type": "code",
   "execution_count": null,
   "id": "76174b1d",
   "metadata": {},
   "outputs": [],
   "source": []
  }
 ],
 "metadata": {
  "kernelspec": {
   "display_name": "Python 3 (ipykernel)",
   "language": "python",
   "name": "python3"
  },
  "language_info": {
   "codemirror_mode": {
    "name": "ipython",
    "version": 3
   },
   "file_extension": ".py",
   "mimetype": "text/x-python",
   "name": "python",
   "nbconvert_exporter": "python",
   "pygments_lexer": "ipython3",
   "version": "3.11.4"
  }
 },
 "nbformat": 4,
 "nbformat_minor": 5
}
